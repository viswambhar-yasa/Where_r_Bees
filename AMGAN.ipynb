{
  "cells": [
    {
      "cell_type": "markdown",
      "metadata": {
        "id": "view-in-github",
        "colab_type": "text"
      },
      "source": [
        "<a href=\"https://colab.research.google.com/github/viswambhar-yasa/Where_r_Bees/blob/main/AMGAN.ipynb\" target=\"_parent\"><img src=\"https://colab.research.google.com/assets/colab-badge.svg\" alt=\"Open In Colab\"/></a>"
      ]
    },
    {
      "cell_type": "code",
      "source": [
        "import torch \n",
        "import torch.nn as nn\n",
        "import torch.optim as optim\n",
        "from torch.autograd import Variable\n",
        "import torch.utils.data\n",
        "import torchvision.datasets as datasets\n",
        "import torchvision.transforms as transforms\n",
        "import torch.nn.functional as F"
      ],
      "metadata": {
        "id": "1m9eJfK6bkUT"
      },
      "execution_count": 2,
      "outputs": []
    },
    {
      "cell_type": "code",
      "execution_count": 50,
      "metadata": {
        "id": "Er8pNbIMGzRj"
      },
      "outputs": [],
      "source": [
        "## couldnot make multiple output (backward is causing an error)\n",
        "class DCGAN(nn.Module):\n",
        "    def __init__(self, z_size, output_size, n_classes, n_output_channels=1):\n",
        "        super(DCGAN, self).__init__()\n",
        "        self.output_size=output_size\n",
        "        self.n_classes=n_classes\n",
        "        self.Gen = nn.Sequential(\n",
        "            nn.ConvTranspose2d(in_channels=z_size, out_channels=output_size*16,\n",
        "                               kernel_size=4, stride=1, padding=1, bias=False),\n",
        "            nn.BatchNorm2d(output_size*16),\n",
        "            nn.ReLU(True),\n",
        "            \n",
        "            nn.ConvTranspose2d(in_channels=output_size*16, out_channels=output_size*8,\n",
        "                               kernel_size=4, stride=2, padding=1, bias=False),\n",
        "            nn.BatchNorm2d(output_size*8),\n",
        "            nn.ReLU(True),\n",
        "\n",
        "            nn.ConvTranspose2d(in_channels=output_size*8, out_channels=output_size*4,\n",
        "                               kernel_size=4, stride=2, padding=1, bias=False),\n",
        "            nn.BatchNorm2d(output_size*4),\n",
        "            nn.ReLU(True),\n",
        "\n",
        "            nn.ConvTranspose2d(in_channels=output_size*4, out_channels=output_size*2,\n",
        "                               kernel_size=4, stride=2, padding=1, bias=False),\n",
        "            nn.BatchNorm2d(128),\n",
        "            nn.ReLU(True),\n",
        "            \n",
        "            nn.ConvTranspose2d(in_channels=output_size*2, out_channels=output_size,\n",
        "                               kernel_size=4, stride=2, padding=1, bias=False),\n",
        "            nn.BatchNorm2d(output_size),\n",
        "            nn.ReLU(True),\n",
        "\n",
        "            nn.ConvTranspose2d(in_channels=output_size, out_channels=n_output_channels,\n",
        "                               kernel_size=4, stride=2, padding=1, bias=False),\n",
        "            nn.Tanh()\n",
        "            )\n",
        "        \n",
        "        self.Dis = nn.Sequential(\n",
        "            nn.Conv2d(in_channels=n_output_channels, out_channels=output_size,\n",
        "                      kernel_size=4, stride=2, padding=1, bias=False),\n",
        "            nn.LeakyReLU(0.2, inplace=True),\n",
        "\n",
        "            nn.Conv2d(in_channels=output_size, out_channels=output_size*2,\n",
        "                      kernel_size=4, stride=2, padding=1, bias=False),\n",
        "            nn.BatchNorm2d(output_size*2),\n",
        "            nn.LeakyReLU(0.2, inplace=True),\n",
        "\n",
        "            nn.Conv2d(in_channels=output_size*2, out_channels=output_size*4,\n",
        "                      kernel_size=4, stride=2, padding=1, bias=False),\n",
        "            nn.BatchNorm2d(output_size*4),\n",
        "            nn.LeakyReLU(0.2, inplace=True),\n",
        "            \n",
        "            nn.Conv2d(in_channels=output_size*4, out_channels=output_size*8,\n",
        "                      kernel_size=4, stride=2, padding=1, bias=False),\n",
        "            nn.BatchNorm2d(output_size*8),\n",
        "            nn.LeakyReLU(0.2, inplace=True),\n",
        "\n",
        "            nn.Conv2d(in_channels=output_size*8, out_channels=output_size*16,\n",
        "                      kernel_size=4, stride=2, padding=1, bias=False),\n",
        "            nn.BatchNorm2d(output_size*16),\n",
        "            nn.LeakyReLU(0.2, inplace=True),\n",
        "            nn.Conv2d(in_channels=output_size*16, out_channels=1,\n",
        "                        kernel_size=4, stride=1, padding=1, bias=False),\n",
        "            nn.Sigmoid())\n",
        "\n",
        "    def forward(self):\n",
        "      return [self.Gen(),self.Dis()]\n"
      ]
    },
    {
      "cell_type": "code",
      "source": [
        "class Generator(nn.Module):\n",
        "    def __init__(self, z_size, output_size, n_classes, n_output_channels=1):\n",
        "        super(Generator, self).__init__()\n",
        "        self.output_size=output_size\n",
        "        self.n_classes=n_classes\n",
        "        self.Gen = nn.Sequential(\n",
        "            nn.ConvTranspose2d(in_channels=z_size, out_channels=output_size*16,\n",
        "                               kernel_size=4, stride=1, padding=1, bias=False),\n",
        "            nn.BatchNorm2d(output_size*16),\n",
        "            nn.ReLU(True),\n",
        "            \n",
        "            nn.ConvTranspose2d(in_channels=output_size*16, out_channels=output_size*8,\n",
        "                               kernel_size=4, stride=2, padding=1, bias=False),\n",
        "            nn.BatchNorm2d(output_size*8),\n",
        "            nn.ReLU(True),\n",
        "\n",
        "            nn.ConvTranspose2d(in_channels=output_size*8, out_channels=output_size*4,\n",
        "                               kernel_size=4, stride=2, padding=1, bias=False),\n",
        "            nn.BatchNorm2d(output_size*4),\n",
        "            nn.ReLU(True),\n",
        "\n",
        "            nn.ConvTranspose2d(in_channels=output_size*4, out_channels=output_size*2,\n",
        "                               kernel_size=4, stride=2, padding=1, bias=False),\n",
        "            nn.BatchNorm2d(128),\n",
        "            nn.ReLU(True),\n",
        "            \n",
        "            nn.ConvTranspose2d(in_channels=output_size*2, out_channels=output_size,\n",
        "                               kernel_size=4, stride=2, padding=1, bias=False),\n",
        "            nn.BatchNorm2d(output_size),\n",
        "            nn.ReLU(True),\n",
        "\n",
        "            nn.ConvTranspose2d(in_channels=output_size, out_channels=n_output_channels,\n",
        "                               kernel_size=4, stride=2, padding=1, bias=False),\n",
        "            nn.Tanh()\n",
        "            )\n",
        "    def forward(self,x):\n",
        "      return self.Gen(x)"
      ],
      "metadata": {
        "id": "i5ddKkGgbpbH"
      },
      "execution_count": 56,
      "outputs": []
    },
    {
      "cell_type": "code",
      "source": [
        "class Discrimator(nn.Module):\n",
        "    def __init__(self, z_size, output_size, n_classes, n_output_channels=1):\n",
        "        super(Discrimator, self).__init__()\n",
        "        self.output_size=output_size\n",
        "        self.n_classes=n_classes\n",
        "        self.Dis = nn.Sequential(\n",
        "            nn.Conv2d(in_channels=n_output_channels, out_channels=output_size,\n",
        "                      kernel_size=4, stride=2, padding=1, bias=False),\n",
        "            nn.LeakyReLU(0.2, inplace=True),\n",
        "\n",
        "            nn.Conv2d(in_channels=output_size, out_channels=output_size*2,\n",
        "                      kernel_size=4, stride=2, padding=1, bias=False),\n",
        "            nn.BatchNorm2d(output_size*2),\n",
        "            nn.LeakyReLU(0.2, inplace=True),\n",
        "\n",
        "            nn.Conv2d(in_channels=output_size*2, out_channels=output_size*4,\n",
        "                      kernel_size=4, stride=2, padding=1, bias=False),\n",
        "            nn.BatchNorm2d(output_size*4),\n",
        "            nn.LeakyReLU(0.2, inplace=True),\n",
        "            \n",
        "            nn.Conv2d(in_channels=output_size*4, out_channels=output_size*8,\n",
        "                      kernel_size=4, stride=2, padding=1, bias=False),\n",
        "            nn.BatchNorm2d(output_size*8),\n",
        "            nn.LeakyReLU(0.2, inplace=True),\n",
        "\n",
        "            nn.Conv2d(in_channels=output_size*8, out_channels=output_size*16,\n",
        "                      kernel_size=4, stride=2, padding=1, bias=False),\n",
        "            nn.BatchNorm2d(output_size*16),\n",
        "            nn.LeakyReLU(0.2, inplace=True)\n",
        "            )\n",
        "        self.final_conv1=nn.Conv2d(in_channels=self.output_size*16, out_channels=self.n_classes,\n",
        "                        kernel_size=4, stride=1, padding=1, bias=False)\n",
        "        self.final_conv2=nn.Conv2d(in_channels=self.output_size*16, out_channels=1,\n",
        "                        kernel_size=4, stride=1, padding=1, bias=False)\n",
        "        self.softmax=nn.Softmax()\n",
        "        self.sigmoid=nn.Sigmoid()\n",
        "    def forward(self,x):\n",
        "      output1 = self.softmax(self.final_conv1(self.Dis(x)))\n",
        "      output2 = self.sigmoid(self.final_conv2(self.Dis(x)))\n",
        "        # Output layer with softmax activation\n",
        "      return output1,output2"
      ],
      "metadata": {
        "id": "XhRV3dKnbzdC"
      },
      "execution_count": 95,
      "outputs": []
    },
    {
      "cell_type": "code",
      "source": [
        "\n",
        "def weight_initialization(m):\n",
        "    classname = m.__class__.__name__\n",
        "    if classname.find('Conv') != -1:\n",
        "        nn.init.normal_(m.weight.data, 0.0, 0.02)\n",
        "    elif classname.find('BatchNorm') != -1:\n",
        "        nn.init.normal_(m.weight.data, 1.0, 0.02)\n",
        "        nn.init.constant_(m.bias.data, 0)\n"
      ],
      "metadata": {
        "id": "mdt5BnClc0KR"
      },
      "execution_count": 96,
      "outputs": []
    },
    {
      "cell_type": "code",
      "execution_count": 97,
      "metadata": {
        "colab": {
          "base_uri": "https://localhost:8080/"
        },
        "id": "9DKgJftUHCmp",
        "outputId": "15eeddf5-e325-4ca0-af1d-185fb8c33688"
      },
      "outputs": [
        {
          "output_type": "stream",
          "name": "stdout",
          "text": [
            "Pytorch Version 1.12.0+cu113\n",
            "Is GPU available: True\n",
            "Number of GPUs 1\n",
            "Model building completed\n"
          ]
        }
      ],
      "source": [
        "\n",
        "print('Pytorch Version', torch.__version__)\n",
        "print('Is GPU available:',torch.cuda.is_available())\n",
        "if torch.cuda.is_available():\n",
        "    print('Number of GPUs',torch.cuda.device_count())\n",
        "\n",
        "ngpu = torch.cuda.device_count()\n",
        "device = torch.device(\"cuda:0\" if (torch.cuda.is_available() and ngpu > 0) else \"cpu\")\n",
        "\n",
        "z_vector_size=128\n",
        "output_image_size=64\n",
        "n_classes= 10 ## number of labels\n",
        "Discrimator_net = Discrimator(z_vector_size, output_image_size,\n",
        "                  n_classes).to(device)\n",
        "Generator_net = Generator(z_vector_size, output_image_size,\n",
        "                  n_classes).to(device)\n",
        "if (device.type == 'cuda') and (ngpu > 1):\n",
        "    netG = nn.DataParallel(Generator_net, list(range(ngpu)))\n",
        "    netD = nn.DataParallel(Discrimator_net, list(range(ngpu)))\n",
        "else:\n",
        "    netG = Generator_net\n",
        "    netD = Discrimator_net\n",
        "netG.apply(weight_initialization)\n",
        "netD.apply(weight_initialization)\n",
        "print('Model building completed')"
      ]
    },
    {
      "cell_type": "code",
      "execution_count": 98,
      "metadata": {
        "colab": {
          "base_uri": "https://localhost:8080/"
        },
        "id": "IY569dArZvT6",
        "outputId": "d6ebcbc5-63ce-4910-9832-dae768e9f1d0"
      },
      "outputs": [
        {
          "output_type": "stream",
          "name": "stdout",
          "text": [
            "----------------------------------------------------------------\n",
            "        Layer (type)               Output Shape         Param #\n",
            "================================================================\n",
            "   ConvTranspose2d-1           [-1, 1024, 2, 2]       2,097,152\n",
            "       BatchNorm2d-2           [-1, 1024, 2, 2]           2,048\n",
            "              ReLU-3           [-1, 1024, 2, 2]               0\n",
            "   ConvTranspose2d-4            [-1, 512, 4, 4]       8,388,608\n",
            "       BatchNorm2d-5            [-1, 512, 4, 4]           1,024\n",
            "              ReLU-6            [-1, 512, 4, 4]               0\n",
            "   ConvTranspose2d-7            [-1, 256, 8, 8]       2,097,152\n",
            "       BatchNorm2d-8            [-1, 256, 8, 8]             512\n",
            "              ReLU-9            [-1, 256, 8, 8]               0\n",
            "  ConvTranspose2d-10          [-1, 128, 16, 16]         524,288\n",
            "      BatchNorm2d-11          [-1, 128, 16, 16]             256\n",
            "             ReLU-12          [-1, 128, 16, 16]               0\n",
            "  ConvTranspose2d-13           [-1, 64, 32, 32]         131,072\n",
            "      BatchNorm2d-14           [-1, 64, 32, 32]             128\n",
            "             ReLU-15           [-1, 64, 32, 32]               0\n",
            "  ConvTranspose2d-16            [-1, 1, 64, 64]           1,024\n",
            "             Tanh-17            [-1, 1, 64, 64]               0\n",
            "================================================================\n",
            "Total params: 13,243,264\n",
            "Trainable params: 13,243,264\n",
            "Non-trainable params: 0\n",
            "----------------------------------------------------------------\n",
            "Input size (MB): 0.00\n",
            "Forward/backward pass size (MB): 2.97\n",
            "Params size (MB): 50.52\n",
            "Estimated Total Size (MB): 53.49\n",
            "----------------------------------------------------------------\n"
          ]
        }
      ],
      "source": [
        "from torchvision import models\n",
        "from torchsummary import summary\n",
        "summary(netG,(128,1,1))"
      ]
    },
    {
      "cell_type": "code",
      "execution_count": 99,
      "metadata": {
        "colab": {
          "base_uri": "https://localhost:8080/"
        },
        "id": "cMnbg2A3ZNMM",
        "outputId": "1ae1868f-9cd5-4232-c83b-9c0a45c5290c"
      },
      "outputs": [
        {
          "output_type": "stream",
          "name": "stdout",
          "text": [
            "----------------------------------------------------------------\n",
            "        Layer (type)               Output Shape         Param #\n",
            "================================================================\n",
            "            Conv2d-1           [-1, 64, 32, 32]           1,024\n",
            "         LeakyReLU-2           [-1, 64, 32, 32]               0\n",
            "            Conv2d-3          [-1, 128, 16, 16]         131,072\n",
            "       BatchNorm2d-4          [-1, 128, 16, 16]             256\n",
            "         LeakyReLU-5          [-1, 128, 16, 16]               0\n",
            "            Conv2d-6            [-1, 256, 8, 8]         524,288\n",
            "       BatchNorm2d-7            [-1, 256, 8, 8]             512\n",
            "         LeakyReLU-8            [-1, 256, 8, 8]               0\n",
            "            Conv2d-9            [-1, 512, 4, 4]       2,097,152\n",
            "      BatchNorm2d-10            [-1, 512, 4, 4]           1,024\n",
            "        LeakyReLU-11            [-1, 512, 4, 4]               0\n",
            "           Conv2d-12           [-1, 1024, 2, 2]       8,388,608\n",
            "      BatchNorm2d-13           [-1, 1024, 2, 2]           2,048\n",
            "        LeakyReLU-14           [-1, 1024, 2, 2]               0\n",
            "           Conv2d-15             [-1, 10, 1, 1]         163,840\n",
            "          Softmax-16             [-1, 10, 1, 1]               0\n",
            "           Conv2d-17           [-1, 64, 32, 32]           1,024\n",
            "        LeakyReLU-18           [-1, 64, 32, 32]               0\n",
            "           Conv2d-19          [-1, 128, 16, 16]         131,072\n",
            "      BatchNorm2d-20          [-1, 128, 16, 16]             256\n",
            "        LeakyReLU-21          [-1, 128, 16, 16]               0\n",
            "           Conv2d-22            [-1, 256, 8, 8]         524,288\n",
            "      BatchNorm2d-23            [-1, 256, 8, 8]             512\n",
            "        LeakyReLU-24            [-1, 256, 8, 8]               0\n",
            "           Conv2d-25            [-1, 512, 4, 4]       2,097,152\n",
            "      BatchNorm2d-26            [-1, 512, 4, 4]           1,024\n",
            "        LeakyReLU-27            [-1, 512, 4, 4]               0\n",
            "           Conv2d-28           [-1, 1024, 2, 2]       8,388,608\n",
            "      BatchNorm2d-29           [-1, 1024, 2, 2]           2,048\n",
            "        LeakyReLU-30           [-1, 1024, 2, 2]               0\n",
            "           Conv2d-31              [-1, 1, 1, 1]          16,384\n",
            "          Sigmoid-32              [-1, 1, 1, 1]               0\n",
            "================================================================\n",
            "Total params: 22,472,192\n",
            "Trainable params: 22,472,192\n",
            "Non-trainable params: 0\n",
            "----------------------------------------------------------------\n",
            "Input size (MB): 0.02\n",
            "Forward/backward pass size (MB): 4.81\n",
            "Params size (MB): 85.72\n",
            "Estimated Total Size (MB): 90.55\n",
            "----------------------------------------------------------------\n"
          ]
        },
        {
          "output_type": "stream",
          "name": "stderr",
          "text": [
            "/usr/local/lib/python3.7/dist-packages/ipykernel_launcher.py:38: UserWarning: Implicit dimension choice for softmax has been deprecated. Change the call to include dim=X as an argument.\n"
          ]
        }
      ],
      "source": [
        "summary(netD,(1,64,64))"
      ]
    },
    {
      "cell_type": "code",
      "execution_count": 100,
      "metadata": {
        "id": "On66wa6GHHZh"
      },
      "outputs": [],
      "source": [
        "criterion = nn.BCELoss()\n",
        "criterion2=nn.CrossEntropyLoss()\n",
        "# Learning rate for optimizers\n",
        "lr = 0.0001\n",
        "\n",
        "# Beta1 hyperparam for Adam optimizers\n",
        "beta1 = 0.5\n",
        "\n",
        "# Setup Adam optimizers for both G and D\n",
        "optimizerD = optim.Adam(netD.parameters(), lr=lr, betas=(beta1, 0.999))\n",
        "optimizerG = optim.Adam(netG.parameters(), lr=lr, betas=(beta1, 0.999))"
      ]
    },
    {
      "cell_type": "code",
      "execution_count": 101,
      "metadata": {
        "id": "wQndSvhlHPMq"
      },
      "outputs": [],
      "source": [
        "workers = 2\n",
        "\n",
        "training_data = datasets.FashionMNIST(\n",
        "    root=\"data\",\n",
        "    train=True,\n",
        "    download=True,\n",
        "    transform=transforms.Compose([\n",
        "        transforms.Resize(64),\n",
        "        transforms.CenterCrop(64),\n",
        "        transforms.ToTensor()\n",
        "    ])\n",
        ")\n",
        "\n",
        "test_data = datasets.FashionMNIST(\n",
        "    root=\"data\",\n",
        "    train=False,\n",
        "    download=True,\n",
        "    transform=transforms.Compose([\n",
        "        transforms.Resize(64),\n",
        "        transforms.CenterCrop(64),\n",
        "        transforms.ToTensor(),\n",
        "    ])\n",
        ")\n",
        "\n",
        "\n",
        "# Create the dataloader\n",
        "dataloader = torch.utils.data.DataLoader(training_data, batch_size=32,\n",
        "                                         shuffle=True, num_workers=workers)"
      ]
    },
    {
      "cell_type": "code",
      "execution_count": 102,
      "metadata": {
        "id": "1ILnMQGkVL3A"
      },
      "outputs": [],
      "source": [
        "num_epochs=50\n",
        "max_steps=5"
      ]
    },
    {
      "cell_type": "code",
      "execution_count": 105,
      "metadata": {
        "colab": {
          "base_uri": "https://localhost:8080/"
        },
        "id": "-A392WLVVHYr",
        "outputId": "f3d5cffc-a4f7-4b3d-fa48-1d7518b1d316"
      },
      "outputs": [
        {
          "output_type": "stream",
          "name": "stderr",
          "text": [
            "/usr/local/lib/python3.7/dist-packages/ipykernel_launcher.py:38: UserWarning: Implicit dimension choice for softmax has been deprecated. Change the call to include dim=X as an argument.\n"
          ]
        },
        {
          "output_type": "stream",
          "name": "stdout",
          "text": [
            "Epoch:  0    Discrimator Loss:  1.7489323616027832   Generator Loss:  4.8648223876953125\n",
            "Epoch:  1    Discrimator Loss:  1.8038735389709473   Generator Loss:  5.314401626586914\n",
            "Epoch:  2    Discrimator Loss:  1.7238330841064453   Generator Loss:  4.707921028137207\n",
            "Epoch:  3    Discrimator Loss:  1.7971574068069458   Generator Loss:  4.7145795822143555\n",
            "Epoch:  4    Discrimator Loss:  1.7587333917617798   Generator Loss:  4.810540199279785\n",
            "Epoch:  5    Discrimator Loss:  1.7502638101577759   Generator Loss:  4.494414329528809\n",
            "Epoch:  6    Discrimator Loss:  1.8435158729553223   Generator Loss:  4.16048526763916\n",
            "Epoch:  7    Discrimator Loss:  1.7099190950393677   Generator Loss:  4.434076309204102\n",
            "Epoch:  8    Discrimator Loss:  1.7613719701766968   Generator Loss:  4.355894088745117\n",
            "Epoch:  9    Discrimator Loss:  1.753629207611084   Generator Loss:  4.852015972137451\n",
            "Epoch:  10    Discrimator Loss:  1.7370108366012573   Generator Loss:  4.9881415367126465\n",
            "Epoch:  11    Discrimator Loss:  2.0173072814941406   Generator Loss:  8.152782440185547\n",
            "Epoch:  12    Discrimator Loss:  1.840265154838562   Generator Loss:  7.771119594573975\n",
            "Epoch:  13    Discrimator Loss:  1.6691023111343384   Generator Loss:  5.992733478546143\n",
            "Epoch:  14    Discrimator Loss:  1.6752886772155762   Generator Loss:  4.952103614807129\n",
            "Epoch:  15    Discrimator Loss:  1.651793360710144   Generator Loss:  4.6014404296875\n",
            "Epoch:  16    Discrimator Loss:  1.797244668006897   Generator Loss:  4.22642707824707\n",
            "Epoch:  17    Discrimator Loss:  1.8672696352005005   Generator Loss:  4.869052410125732\n",
            "Epoch:  18    Discrimator Loss:  2.0140087604522705   Generator Loss:  7.31701135635376\n",
            "Epoch:  19    Discrimator Loss:  1.8705384731292725   Generator Loss:  5.391980171203613\n",
            "Epoch:  20    Discrimator Loss:  1.778018832206726   Generator Loss:  4.64544153213501\n",
            "Epoch:  21    Discrimator Loss:  1.8204116821289062   Generator Loss:  4.943319320678711\n",
            "Epoch:  22    Discrimator Loss:  2.1250593662261963   Generator Loss:  3.087524175643921\n",
            "Epoch:  23    Discrimator Loss:  2.0594680309295654   Generator Loss:  3.3572278022766113\n",
            "Epoch:  24    Discrimator Loss:  1.7432037591934204   Generator Loss:  4.230133056640625\n",
            "Epoch:  25    Discrimator Loss:  1.8145692348480225   Generator Loss:  8.155555725097656\n",
            "Epoch:  26    Discrimator Loss:  2.114781379699707   Generator Loss:  2.0622947216033936\n",
            "Epoch:  27    Discrimator Loss:  1.9084064960479736   Generator Loss:  5.245576858520508\n",
            "Epoch:  28    Discrimator Loss:  2.643505096435547   Generator Loss:  10.029413223266602\n",
            "Epoch:  29    Discrimator Loss:  2.3538763523101807   Generator Loss:  6.241115570068359\n",
            "Epoch:  30    Discrimator Loss:  1.8905274868011475   Generator Loss:  3.816535472869873\n",
            "Epoch:  31    Discrimator Loss:  1.9805898666381836   Generator Loss:  5.226138114929199\n",
            "Epoch:  32    Discrimator Loss:  1.8418751955032349   Generator Loss:  4.137036323547363\n",
            "Epoch:  33    Discrimator Loss:  3.4937167167663574   Generator Loss:  3.7394402027130127\n",
            "Epoch:  34    Discrimator Loss:  1.7439594268798828   Generator Loss:  4.046182155609131\n",
            "Epoch:  35    Discrimator Loss:  2.2806949615478516   Generator Loss:  2.5766899585723877\n",
            "Epoch:  36    Discrimator Loss:  1.9155324697494507   Generator Loss:  5.02093505859375\n",
            "Epoch:  37    Discrimator Loss:  2.326843738555908   Generator Loss:  3.5089659690856934\n",
            "Epoch:  38    Discrimator Loss:  1.7136682271957397   Generator Loss:  3.908924102783203\n",
            "Epoch:  39    Discrimator Loss:  3.5249202251434326   Generator Loss:  5.36605167388916\n",
            "Epoch:  40    Discrimator Loss:  2.187182903289795   Generator Loss:  4.8288254737854\n",
            "Epoch:  41    Discrimator Loss:  1.9158862829208374   Generator Loss:  4.911433696746826\n",
            "Epoch:  42    Discrimator Loss:  1.991835117340088   Generator Loss:  4.144114971160889\n",
            "Epoch:  43    Discrimator Loss:  1.8102761507034302   Generator Loss:  4.629268646240234\n",
            "Epoch:  44    Discrimator Loss:  1.871071457862854   Generator Loss:  4.992815017700195\n",
            "Epoch:  45    Discrimator Loss:  1.8865396976470947   Generator Loss:  4.171372890472412\n",
            "Epoch:  46    Discrimator Loss:  2.7906484603881836   Generator Loss:  9.107707977294922\n",
            "Epoch:  47    Discrimator Loss:  1.9544001817703247   Generator Loss:  2.96815824508667\n",
            "Epoch:  48    Discrimator Loss:  2.796694755554199   Generator Loss:  7.876894950866699\n",
            "Epoch:  49    Discrimator Loss:  2.0065951347351074   Generator Loss:  3.097226858139038\n"
          ]
        }
      ],
      "source": [
        "dloss=[]\n",
        "gloss=[]\n",
        "for epoch in range(num_epochs):\n",
        "  for steps,data in enumerate(dataloader,0):\n",
        "    if steps<max_steps:\n",
        "\n",
        "      # discrimination training\n",
        "      optimizerD.zero_grad()\n",
        "      input_data,label=data[0].to(device),data[1].to(device)\n",
        "      batch_size=input_data.size(0)\n",
        "      real_label = torch.full((batch_size,), 1., dtype=torch.float, device=device)\n",
        "      \n",
        "      # training on real data \n",
        "      realD_output= netD(input_data)\n",
        "      real_output_labels,real_output = realD_output[0].squeeze(),realD_output[1].squeeze()\n",
        "      # loss from real labels   \n",
        "      errD_real = criterion(real_output, real_label)\n",
        "      # auxillary classifier \n",
        "      errD_label=criterion2(real_output_labels,label)\n",
        "      (errD_real+errD_label).backward(retain_graph=True)\n",
        "      D_x0 = real_output.mean().item()\n",
        "\n",
        "      # input latent vectors to generate fake image \n",
        "      noise = torch.randn(batch_size,z_vector_size , 1, 1, device=device)\n",
        "        # Generate fake image batch with Generator\n",
        "      fake_label=torch.full((batch_size,), 0., dtype=torch.float, device=device)\n",
        "      gen_data=netG(noise)\n",
        "      # discrimation training on fake images\n",
        "      fakeD_output= netD(gen_data)\n",
        "      fake_output_labels,fake_output = fakeD_output[0].squeeze(),fakeD_output[1].squeeze()\n",
        "      # loss for fake image\n",
        "      errD_fake= criterion(fake_output, fake_label)\n",
        "      errD_fake.backward(retain_graph=True)\n",
        "      D_x1=fake_output.mean().item()\n",
        "      total_Dloss=errD_real+errD_fake+errD_label\n",
        "      optimizerD.step()\n",
        "\n",
        "      optimizerG.zero_grad()\n",
        "      fakeD_output_gen= netD(gen_data)\n",
        "      fake_output_labels_gen,fake_output_gen = fakeD_output_gen[0].squeeze(),fakeD_output_gen[1].squeeze()\n",
        "      errG_label= criterion(fake_output_gen, real_label)\n",
        "      # Calculate gradients for G\n",
        "      errG_label.backward(retain_graph=True)\n",
        "      D_G_z2 = fake_output_gen.mean().item()\n",
        "      # Update G\n",
        "      optimizerG.step()\n",
        "    else:\n",
        "      break\n",
        "  dloss.append(total_Dloss.item())\n",
        "  gloss.append(errG_label.item())\n",
        "  print('Epoch: ',epoch,'   critic Loss: ',total_Dloss.item() ,'  Generator Loss: ',errG_label.item())"
      ]
    },
    {
      "cell_type": "code",
      "execution_count": null,
      "metadata": {
        "id": "kIDa2FAMH6Ue"
      },
      "outputs": [],
      "source": [
        ""
      ]
    }
  ],
  "metadata": {
    "accelerator": "GPU",
    "colab": {
      "name": "AMGAN.ipynb",
      "provenance": [],
      "collapsed_sections": [],
      "authorship_tag": "ABX9TyP9LxMsr/GbOoVg54TlPpwD",
      "include_colab_link": true
    },
    "gpuClass": "standard",
    "kernelspec": {
      "display_name": "Python 3",
      "name": "python3"
    },
    "language_info": {
      "name": "python"
    }
  },
  "nbformat": 4,
  "nbformat_minor": 0
}