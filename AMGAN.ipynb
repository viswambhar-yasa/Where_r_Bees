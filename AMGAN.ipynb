{
  "cells": [
    {
      "cell_type": "markdown",
      "metadata": {
        "id": "view-in-github",
        "colab_type": "text"
      },
      "source": [
        "<a href=\"https://colab.research.google.com/github/viswambhar-yasa/Where_r_Bees/blob/main/AMGAN.ipynb\" target=\"_parent\"><img src=\"https://colab.research.google.com/assets/colab-badge.svg\" alt=\"Open In Colab\"/></a>"
      ]
    },
    {
      "cell_type": "code",
      "source": [
        "import torch \n",
        "import torch.nn as nn\n",
        "import torch.optim as optim\n",
        "from torch.autograd import Variable\n",
        "import torch.utils.data\n",
        "import torchvision.datasets as datasets\n",
        "import torchvision.transforms as transforms\n",
        "import torch.nn.functional as F"
      ],
      "metadata": {
        "id": "1m9eJfK6bkUT"
      },
      "execution_count": 2,
      "outputs": []
    },
    {
      "cell_type": "code",
      "execution_count": 50,
      "metadata": {
        "id": "Er8pNbIMGzRj"
      },
      "outputs": [],
      "source": [
        "## couldnot make multiple output (backward is causing an error)\n",
        "class DCGAN(nn.Module):\n",
        "    def __init__(self, z_size, output_size, n_classes, n_output_channels=1):\n",
        "        super(DCGAN, self).__init__()\n",
        "        self.output_size=output_size\n",
        "        self.n_classes=n_classes\n",
        "        self.Gen = nn.Sequential(\n",
        "            nn.ConvTranspose2d(in_channels=z_size, out_channels=output_size*16,\n",
        "                               kernel_size=4, stride=1, padding=1, bias=False),\n",
        "            nn.BatchNorm2d(output_size*16),\n",
        "            nn.ReLU(True),\n",
        "            \n",
        "            nn.ConvTranspose2d(in_channels=output_size*16, out_channels=output_size*8,\n",
        "                               kernel_size=4, stride=2, padding=1, bias=False),\n",
        "            nn.BatchNorm2d(output_size*8),\n",
        "            nn.ReLU(True),\n",
        "\n",
        "            nn.ConvTranspose2d(in_channels=output_size*8, out_channels=output_size*4,\n",
        "                               kernel_size=4, stride=2, padding=1, bias=False),\n",
        "            nn.BatchNorm2d(output_size*4),\n",
        "            nn.ReLU(True),\n",
        "\n",
        "            nn.ConvTranspose2d(in_channels=output_size*4, out_channels=output_size*2,\n",
        "                               kernel_size=4, stride=2, padding=1, bias=False),\n",
        "            nn.BatchNorm2d(128),\n",
        "            nn.ReLU(True),\n",
        "            \n",
        "            nn.ConvTranspose2d(in_channels=output_size*2, out_channels=output_size,\n",
        "                               kernel_size=4, stride=2, padding=1, bias=False),\n",
        "            nn.BatchNorm2d(output_size),\n",
        "            nn.ReLU(True),\n",
        "\n",
        "            nn.ConvTranspose2d(in_channels=output_size, out_channels=n_output_channels,\n",
        "                               kernel_size=4, stride=2, padding=1, bias=False),\n",
        "            nn.Tanh()\n",
        "            )\n",
        "        \n",
        "        self.Dis = nn.Sequential(\n",
        "            nn.Conv2d(in_channels=n_output_channels, out_channels=output_size,\n",
        "                      kernel_size=4, stride=2, padding=1, bias=False),\n",
        "            nn.LeakyReLU(0.2, inplace=True),\n",
        "\n",
        "            nn.Conv2d(in_channels=output_size, out_channels=output_size*2,\n",
        "                      kernel_size=4, stride=2, padding=1, bias=False),\n",
        "            nn.BatchNorm2d(output_size*2),\n",
        "            nn.LeakyReLU(0.2, inplace=True),\n",
        "\n",
        "            nn.Conv2d(in_channels=output_size*2, out_channels=output_size*4,\n",
        "                      kernel_size=4, stride=2, padding=1, bias=False),\n",
        "            nn.BatchNorm2d(output_size*4),\n",
        "            nn.LeakyReLU(0.2, inplace=True),\n",
        "            \n",
        "            nn.Conv2d(in_channels=output_size*4, out_channels=output_size*8,\n",
        "                      kernel_size=4, stride=2, padding=1, bias=False),\n",
        "            nn.BatchNorm2d(output_size*8),\n",
        "            nn.LeakyReLU(0.2, inplace=True),\n",
        "\n",
        "            nn.Conv2d(in_channels=output_size*8, out_channels=output_size*16,\n",
        "                      kernel_size=4, stride=2, padding=1, bias=False),\n",
        "            nn.BatchNorm2d(output_size*16),\n",
        "            nn.LeakyReLU(0.2, inplace=True),\n",
        "            nn.Conv2d(in_channels=output_size*16, out_channels=1,\n",
        "                        kernel_size=4, stride=1, padding=1, bias=False),\n",
        "            nn.Sigmoid())\n",
        "\n",
        "    def forward(self):\n",
        "      return [self.Gen(),self.Dis()]\n"
      ]
    },
    {
      "cell_type": "code",
      "source": [
        "class Generator(nn.Module):\n",
        "    def __init__(self, z_size, output_size, n_classes, n_output_channels=1):\n",
        "        super(Generator, self).__init__()\n",
        "        self.output_size=output_size\n",
        "        self.n_classes=n_classes\n",
        "        self.Gen = nn.Sequential(\n",
        "            nn.ConvTranspose2d(in_channels=z_size, out_channels=output_size*16,\n",
        "                               kernel_size=4, stride=1, padding=1, bias=False),\n",
        "            nn.BatchNorm2d(output_size*16),\n",
        "            nn.ReLU(True),\n",
        "            \n",
        "            nn.ConvTranspose2d(in_channels=output_size*16, out_channels=output_size*8,\n",
        "                               kernel_size=4, stride=2, padding=1, bias=False),\n",
        "            nn.BatchNorm2d(output_size*8),\n",
        "            nn.ReLU(True),\n",
        "\n",
        "            nn.ConvTranspose2d(in_channels=output_size*8, out_channels=output_size*4,\n",
        "                               kernel_size=4, stride=2, padding=1, bias=False),\n",
        "            nn.BatchNorm2d(output_size*4),\n",
        "            nn.ReLU(True),\n",
        "\n",
        "            nn.ConvTranspose2d(in_channels=output_size*4, out_channels=output_size*2,\n",
        "                               kernel_size=4, stride=2, padding=1, bias=False),\n",
        "            nn.BatchNorm2d(128),\n",
        "            nn.ReLU(True),\n",
        "            \n",
        "            nn.ConvTranspose2d(in_channels=output_size*2, out_channels=output_size,\n",
        "                               kernel_size=4, stride=2, padding=1, bias=False),\n",
        "            nn.BatchNorm2d(output_size),\n",
        "            nn.ReLU(True),\n",
        "\n",
        "            nn.ConvTranspose2d(in_channels=output_size, out_channels=n_output_channels,\n",
        "                               kernel_size=4, stride=2, padding=1, bias=False),\n",
        "            nn.Tanh()\n",
        "            )\n",
        "    def forward(self,x):\n",
        "      return self.Gen(x)"
      ],
      "metadata": {
        "id": "i5ddKkGgbpbH"
      },
      "execution_count": 56,
      "outputs": []
    },
    {
      "cell_type": "code",
      "source": [
        "class Discrimator(nn.Module):\n",
        "    def __init__(self, z_size, output_size, n_classes, n_output_channels=1):\n",
        "        super(Discrimator, self).__init__()\n",
        "        self.output_size=output_size\n",
        "        self.n_classes=n_classes\n",
        "        self.Dis = nn.Sequential(\n",
        "            nn.Conv2d(in_channels=n_output_channels, out_channels=output_size,\n",
        "                      kernel_size=4, stride=2, padding=1, bias=False),\n",
        "            nn.LeakyReLU(0.2, inplace=True),\n",
        "\n",
        "            nn.Conv2d(in_channels=output_size, out_channels=output_size*2,\n",
        "                      kernel_size=4, stride=2, padding=1, bias=False),\n",
        "            nn.BatchNorm2d(output_size*2),\n",
        "            nn.LeakyReLU(0.2, inplace=True),\n",
        "\n",
        "            nn.Conv2d(in_channels=output_size*2, out_channels=output_size*4,\n",
        "                      kernel_size=4, stride=2, padding=1, bias=False),\n",
        "            nn.BatchNorm2d(output_size*4),\n",
        "            nn.LeakyReLU(0.2, inplace=True),\n",
        "            \n",
        "            nn.Conv2d(in_channels=output_size*4, out_channels=output_size*8,\n",
        "                      kernel_size=4, stride=2, padding=1, bias=False),\n",
        "            nn.BatchNorm2d(output_size*8),\n",
        "            nn.LeakyReLU(0.2, inplace=True),\n",
        "\n",
        "            nn.Conv2d(in_channels=output_size*8, out_channels=output_size*16,\n",
        "                      kernel_size=4, stride=2, padding=1, bias=False),\n",
        "            nn.BatchNorm2d(output_size*16),\n",
        "            nn.LeakyReLU(0.2, inplace=True)\n",
        "            )\n",
        "        self.final_conv1=nn.Conv2d(in_channels=self.output_size*16, out_channels=self.n_classes,\n",
        "                        kernel_size=4, stride=1, padding=1, bias=False)\n",
        "        self.final_conv2=nn.Conv2d(in_channels=self.output_size*16, out_channels=1,\n",
        "                        kernel_size=4, stride=1, padding=1, bias=False)\n",
        "        self.softmax=nn.Softmax(dim=1)\n",
        "        self.sigmoid=nn.Sigmoid()\n",
        "    def forward(self,x):\n",
        "      output1 = self.softmax(self.final_conv1(self.Dis(x)))\n",
        "      output2 = self.sigmoid(self.final_conv2(self.Dis(x)))\n",
        "        # Output layer with softmax activation\n",
        "      return output1,output2"
      ],
      "metadata": {
        "id": "XhRV3dKnbzdC"
      },
      "execution_count": 107,
      "outputs": []
    },
    {
      "cell_type": "code",
      "source": [
        "\n",
        "def weight_initialization(m):\n",
        "    classname = m.__class__.__name__\n",
        "    if classname.find('Conv') != -1:\n",
        "        nn.init.normal_(m.weight.data, 0.0, 0.02)\n",
        "    elif classname.find('BatchNorm') != -1:\n",
        "        nn.init.normal_(m.weight.data, 1.0, 0.02)\n",
        "        nn.init.constant_(m.bias.data, 0)\n"
      ],
      "metadata": {
        "id": "mdt5BnClc0KR"
      },
      "execution_count": 108,
      "outputs": []
    },
    {
      "cell_type": "code",
      "execution_count": 109,
      "metadata": {
        "colab": {
          "base_uri": "https://localhost:8080/"
        },
        "id": "9DKgJftUHCmp",
        "outputId": "1277e7bd-483e-4857-c075-7ece596389d3"
      },
      "outputs": [
        {
          "output_type": "stream",
          "name": "stdout",
          "text": [
            "Pytorch Version 1.12.0+cu113\n",
            "Is GPU available: True\n",
            "Number of GPUs 1\n",
            "Model building completed\n"
          ]
        }
      ],
      "source": [
        "\n",
        "print('Pytorch Version', torch.__version__)\n",
        "print('Is GPU available:',torch.cuda.is_available())\n",
        "if torch.cuda.is_available():\n",
        "    print('Number of GPUs',torch.cuda.device_count())\n",
        "\n",
        "ngpu = torch.cuda.device_count()\n",
        "device = torch.device(\"cuda:0\" if (torch.cuda.is_available() and ngpu > 0) else \"cpu\")\n",
        "\n",
        "z_vector_size=128\n",
        "output_image_size=64\n",
        "n_classes= 10 ## number of labels\n",
        "Discrimator_net = Discrimator(z_vector_size, output_image_size,\n",
        "                  n_classes).to(device)\n",
        "Generator_net = Generator(z_vector_size, output_image_size,\n",
        "                  n_classes).to(device)\n",
        "if (device.type == 'cuda') and (ngpu > 1):\n",
        "    netG = nn.DataParallel(Generator_net, list(range(ngpu)))\n",
        "    netD = nn.DataParallel(Discrimator_net, list(range(ngpu)))\n",
        "else:\n",
        "    netG = Generator_net\n",
        "    netD = Discrimator_net\n",
        "netG.apply(weight_initialization)\n",
        "netD.apply(weight_initialization)\n",
        "print('Model building completed')"
      ]
    },
    {
      "cell_type": "code",
      "execution_count": 110,
      "metadata": {
        "colab": {
          "base_uri": "https://localhost:8080/"
        },
        "id": "IY569dArZvT6",
        "outputId": "2112f714-fc1c-459c-f62b-b85bb0159f09"
      },
      "outputs": [
        {
          "output_type": "stream",
          "name": "stdout",
          "text": [
            "----------------------------------------------------------------\n",
            "        Layer (type)               Output Shape         Param #\n",
            "================================================================\n",
            "   ConvTranspose2d-1           [-1, 1024, 2, 2]       2,097,152\n",
            "       BatchNorm2d-2           [-1, 1024, 2, 2]           2,048\n",
            "              ReLU-3           [-1, 1024, 2, 2]               0\n",
            "   ConvTranspose2d-4            [-1, 512, 4, 4]       8,388,608\n",
            "       BatchNorm2d-5            [-1, 512, 4, 4]           1,024\n",
            "              ReLU-6            [-1, 512, 4, 4]               0\n",
            "   ConvTranspose2d-7            [-1, 256, 8, 8]       2,097,152\n",
            "       BatchNorm2d-8            [-1, 256, 8, 8]             512\n",
            "              ReLU-9            [-1, 256, 8, 8]               0\n",
            "  ConvTranspose2d-10          [-1, 128, 16, 16]         524,288\n",
            "      BatchNorm2d-11          [-1, 128, 16, 16]             256\n",
            "             ReLU-12          [-1, 128, 16, 16]               0\n",
            "  ConvTranspose2d-13           [-1, 64, 32, 32]         131,072\n",
            "      BatchNorm2d-14           [-1, 64, 32, 32]             128\n",
            "             ReLU-15           [-1, 64, 32, 32]               0\n",
            "  ConvTranspose2d-16            [-1, 1, 64, 64]           1,024\n",
            "             Tanh-17            [-1, 1, 64, 64]               0\n",
            "================================================================\n",
            "Total params: 13,243,264\n",
            "Trainable params: 13,243,264\n",
            "Non-trainable params: 0\n",
            "----------------------------------------------------------------\n",
            "Input size (MB): 0.00\n",
            "Forward/backward pass size (MB): 2.97\n",
            "Params size (MB): 50.52\n",
            "Estimated Total Size (MB): 53.49\n",
            "----------------------------------------------------------------\n"
          ]
        }
      ],
      "source": [
        "from torchvision import models\n",
        "from torchsummary import summary\n",
        "summary(netG,(128,1,1))"
      ]
    },
    {
      "cell_type": "code",
      "execution_count": 111,
      "metadata": {
        "colab": {
          "base_uri": "https://localhost:8080/"
        },
        "id": "cMnbg2A3ZNMM",
        "outputId": "fb02b063-fce8-44dd-b5e5-a1360c057c89"
      },
      "outputs": [
        {
          "output_type": "stream",
          "name": "stdout",
          "text": [
            "----------------------------------------------------------------\n",
            "        Layer (type)               Output Shape         Param #\n",
            "================================================================\n",
            "            Conv2d-1           [-1, 64, 32, 32]           1,024\n",
            "         LeakyReLU-2           [-1, 64, 32, 32]               0\n",
            "            Conv2d-3          [-1, 128, 16, 16]         131,072\n",
            "       BatchNorm2d-4          [-1, 128, 16, 16]             256\n",
            "         LeakyReLU-5          [-1, 128, 16, 16]               0\n",
            "            Conv2d-6            [-1, 256, 8, 8]         524,288\n",
            "       BatchNorm2d-7            [-1, 256, 8, 8]             512\n",
            "         LeakyReLU-8            [-1, 256, 8, 8]               0\n",
            "            Conv2d-9            [-1, 512, 4, 4]       2,097,152\n",
            "      BatchNorm2d-10            [-1, 512, 4, 4]           1,024\n",
            "        LeakyReLU-11            [-1, 512, 4, 4]               0\n",
            "           Conv2d-12           [-1, 1024, 2, 2]       8,388,608\n",
            "      BatchNorm2d-13           [-1, 1024, 2, 2]           2,048\n",
            "        LeakyReLU-14           [-1, 1024, 2, 2]               0\n",
            "           Conv2d-15             [-1, 10, 1, 1]         163,840\n",
            "          Softmax-16             [-1, 10, 1, 1]               0\n",
            "           Conv2d-17           [-1, 64, 32, 32]           1,024\n",
            "        LeakyReLU-18           [-1, 64, 32, 32]               0\n",
            "           Conv2d-19          [-1, 128, 16, 16]         131,072\n",
            "      BatchNorm2d-20          [-1, 128, 16, 16]             256\n",
            "        LeakyReLU-21          [-1, 128, 16, 16]               0\n",
            "           Conv2d-22            [-1, 256, 8, 8]         524,288\n",
            "      BatchNorm2d-23            [-1, 256, 8, 8]             512\n",
            "        LeakyReLU-24            [-1, 256, 8, 8]               0\n",
            "           Conv2d-25            [-1, 512, 4, 4]       2,097,152\n",
            "      BatchNorm2d-26            [-1, 512, 4, 4]           1,024\n",
            "        LeakyReLU-27            [-1, 512, 4, 4]               0\n",
            "           Conv2d-28           [-1, 1024, 2, 2]       8,388,608\n",
            "      BatchNorm2d-29           [-1, 1024, 2, 2]           2,048\n",
            "        LeakyReLU-30           [-1, 1024, 2, 2]               0\n",
            "           Conv2d-31              [-1, 1, 1, 1]          16,384\n",
            "          Sigmoid-32              [-1, 1, 1, 1]               0\n",
            "================================================================\n",
            "Total params: 22,472,192\n",
            "Trainable params: 22,472,192\n",
            "Non-trainable params: 0\n",
            "----------------------------------------------------------------\n",
            "Input size (MB): 0.02\n",
            "Forward/backward pass size (MB): 4.81\n",
            "Params size (MB): 85.72\n",
            "Estimated Total Size (MB): 90.55\n",
            "----------------------------------------------------------------\n"
          ]
        }
      ],
      "source": [
        "summary(netD,(1,64,64))"
      ]
    },
    {
      "cell_type": "code",
      "execution_count": 112,
      "metadata": {
        "id": "On66wa6GHHZh"
      },
      "outputs": [],
      "source": [
        "criterion = nn.BCELoss()\n",
        "criterion2=nn.CrossEntropyLoss()\n",
        "# Learning rate for optimizers\n",
        "lr = 0.0001\n",
        "\n",
        "# Beta1 hyperparam for Adam optimizers\n",
        "beta1 = 0.5\n",
        "\n",
        "# Setup Adam optimizers for both G and D\n",
        "optimizerD = optim.Adam(netD.parameters(), lr=lr, betas=(beta1, 0.999))\n",
        "optimizerG = optim.Adam(netG.parameters(), lr=lr, betas=(beta1, 0.999))"
      ]
    },
    {
      "cell_type": "code",
      "execution_count": 113,
      "metadata": {
        "id": "wQndSvhlHPMq"
      },
      "outputs": [],
      "source": [
        "workers = 2\n",
        "\n",
        "training_data = datasets.FashionMNIST(\n",
        "    root=\"data\",\n",
        "    train=True,\n",
        "    download=True,\n",
        "    transform=transforms.Compose([\n",
        "        transforms.Resize(64),\n",
        "        transforms.CenterCrop(64),\n",
        "        transforms.ToTensor()\n",
        "    ])\n",
        ")\n",
        "\n",
        "test_data = datasets.FashionMNIST(\n",
        "    root=\"data\",\n",
        "    train=False,\n",
        "    download=True,\n",
        "    transform=transforms.Compose([\n",
        "        transforms.Resize(64),\n",
        "        transforms.CenterCrop(64),\n",
        "        transforms.ToTensor(),\n",
        "    ])\n",
        ")\n",
        "\n",
        "\n",
        "# Create the dataloader\n",
        "dataloader = torch.utils.data.DataLoader(training_data, batch_size=32,\n",
        "                                         shuffle=True, num_workers=workers)"
      ]
    },
    {
      "cell_type": "code",
      "execution_count": 114,
      "metadata": {
        "id": "1ILnMQGkVL3A"
      },
      "outputs": [],
      "source": [
        "num_epochs=50\n",
        "max_steps=5"
      ]
    },
    {
      "cell_type": "code",
      "execution_count": 115,
      "metadata": {
        "colab": {
          "base_uri": "https://localhost:8080/"
        },
        "id": "-A392WLVVHYr",
        "outputId": "c967f091-dc4f-46bc-f2bc-e5d16beaca7c"
      },
      "outputs": [
        {
          "output_type": "stream",
          "name": "stdout",
          "text": [
            "Epoch:  0    critic Loss:  2.536386013031006   Generator Loss:  5.3328094482421875\n",
            "Epoch:  1    critic Loss:  2.2984702587127686   Generator Loss:  5.542654514312744\n",
            "Epoch:  2    critic Loss:  2.101864814758301   Generator Loss:  6.231584548950195\n",
            "Epoch:  3    critic Loss:  2.0155465602874756   Generator Loss:  5.397793769836426\n",
            "Epoch:  4    critic Loss:  1.732766032218933   Generator Loss:  11.664587020874023\n",
            "Epoch:  5    critic Loss:  2.0726449489593506   Generator Loss:  5.381270408630371\n",
            "Epoch:  6    critic Loss:  1.9616984128952026   Generator Loss:  15.777040481567383\n",
            "Epoch:  7    critic Loss:  1.8868483304977417   Generator Loss:  13.396646499633789\n",
            "Epoch:  8    critic Loss:  1.962577223777771   Generator Loss:  7.223982810974121\n",
            "Epoch:  9    critic Loss:  1.8980164527893066   Generator Loss:  6.700555324554443\n",
            "Epoch:  10    critic Loss:  1.7994482517242432   Generator Loss:  8.027304649353027\n",
            "Epoch:  11    critic Loss:  1.9139909744262695   Generator Loss:  3.9249606132507324\n",
            "Epoch:  12    critic Loss:  1.9069792032241821   Generator Loss:  4.3266921043396\n",
            "Epoch:  13    critic Loss:  2.250547409057617   Generator Loss:  8.684529304504395\n",
            "Epoch:  14    critic Loss:  1.8608641624450684   Generator Loss:  6.555849075317383\n",
            "Epoch:  15    critic Loss:  1.9255555868148804   Generator Loss:  6.211057662963867\n",
            "Epoch:  16    critic Loss:  2.0772147178649902   Generator Loss:  6.470344543457031\n",
            "Epoch:  17    critic Loss:  2.1358590126037598   Generator Loss:  8.649592399597168\n",
            "Epoch:  18    critic Loss:  1.910811424255371   Generator Loss:  6.680022716522217\n",
            "Epoch:  19    critic Loss:  2.238112211227417   Generator Loss:  6.867273330688477\n",
            "Epoch:  20    critic Loss:  2.0967094898223877   Generator Loss:  7.385511875152588\n",
            "Epoch:  21    critic Loss:  2.1319541931152344   Generator Loss:  4.767022132873535\n",
            "Epoch:  22    critic Loss:  2.243865966796875   Generator Loss:  4.919903755187988\n",
            "Epoch:  23    critic Loss:  2.1392593383789062   Generator Loss:  3.6687633991241455\n",
            "Epoch:  24    critic Loss:  2.0711231231689453   Generator Loss:  3.407811164855957\n",
            "Epoch:  25    critic Loss:  2.1760213375091553   Generator Loss:  6.62411642074585\n",
            "Epoch:  26    critic Loss:  2.2175686359405518   Generator Loss:  3.531243324279785\n",
            "Epoch:  27    critic Loss:  1.847599983215332   Generator Loss:  3.5223782062530518\n",
            "Epoch:  28    critic Loss:  1.7334624528884888   Generator Loss:  5.3682990074157715\n",
            "Epoch:  29    critic Loss:  1.7937556505203247   Generator Loss:  4.809422492980957\n",
            "Epoch:  30    critic Loss:  1.8996790647506714   Generator Loss:  4.74801778793335\n",
            "Epoch:  31    critic Loss:  1.854061245918274   Generator Loss:  5.376736640930176\n",
            "Epoch:  32    critic Loss:  1.9346891641616821   Generator Loss:  9.392143249511719\n",
            "Epoch:  33    critic Loss:  1.8358197212219238   Generator Loss:  6.336655139923096\n",
            "Epoch:  34    critic Loss:  2.245959997177124   Generator Loss:  10.674137115478516\n",
            "Epoch:  35    critic Loss:  1.7343817949295044   Generator Loss:  5.390952110290527\n",
            "Epoch:  36    critic Loss:  1.8846168518066406   Generator Loss:  4.699191570281982\n",
            "Epoch:  37    critic Loss:  1.93080472946167   Generator Loss:  3.866042375564575\n",
            "Epoch:  38    critic Loss:  1.7416081428527832   Generator Loss:  5.876570701599121\n",
            "Epoch:  39    critic Loss:  1.8117719888687134   Generator Loss:  5.272229194641113\n",
            "Epoch:  40    critic Loss:  1.7310172319412231   Generator Loss:  6.853097915649414\n",
            "Epoch:  41    critic Loss:  1.9014580249786377   Generator Loss:  4.130218982696533\n",
            "Epoch:  42    critic Loss:  1.6732019186019897   Generator Loss:  5.251523017883301\n",
            "Epoch:  43    critic Loss:  1.7731273174285889   Generator Loss:  4.866459846496582\n",
            "Epoch:  44    critic Loss:  1.7505314350128174   Generator Loss:  4.453692436218262\n",
            "Epoch:  45    critic Loss:  1.7583212852478027   Generator Loss:  4.330594062805176\n",
            "Epoch:  46    critic Loss:  1.7740423679351807   Generator Loss:  4.799515724182129\n",
            "Epoch:  47    critic Loss:  1.8254672288894653   Generator Loss:  4.57062292098999\n",
            "Epoch:  48    critic Loss:  1.576116681098938   Generator Loss:  5.342720985412598\n",
            "Epoch:  49    critic Loss:  1.8668768405914307   Generator Loss:  2.560518264770508\n"
          ]
        }
      ],
      "source": [
        "dloss=[]\n",
        "gloss=[]\n",
        "for epoch in range(num_epochs):\n",
        "  for steps,data in enumerate(dataloader,0):\n",
        "    if steps<max_steps:\n",
        "\n",
        "      # discrimination training\n",
        "      optimizerD.zero_grad()\n",
        "      input_data,label=data[0].to(device),data[1].to(device)\n",
        "      batch_size=input_data.size(0)\n",
        "      real_label = torch.full((batch_size,), 1., dtype=torch.float, device=device)\n",
        "      \n",
        "      # training on real data \n",
        "      realD_output= netD(input_data)\n",
        "      real_output_labels,real_output = realD_output[0].squeeze(),realD_output[1].squeeze()\n",
        "      # loss from real labels   \n",
        "      errD_real = criterion(real_output, real_label)\n",
        "      # auxillary classifier \n",
        "      errD_label=criterion2(real_output_labels,label)\n",
        "      (errD_real+errD_label).backward(retain_graph=True)\n",
        "      D_x0 = real_output.mean().item()\n",
        "\n",
        "      # input latent vectors to generate fake image \n",
        "      noise = torch.randn(batch_size,z_vector_size , 1, 1, device=device)\n",
        "        # Generate fake image batch with Generator\n",
        "      fake_label=torch.full((batch_size,), 0., dtype=torch.float, device=device)\n",
        "      gen_data=netG(noise)\n",
        "      # discrimation training on fake images\n",
        "      fakeD_output= netD(gen_data)\n",
        "      fake_output_labels,fake_output = fakeD_output[0].squeeze(),fakeD_output[1].squeeze()\n",
        "      # loss for fake image\n",
        "      errD_fake= criterion(fake_output, fake_label)\n",
        "      errD_fake.backward(retain_graph=True)\n",
        "      D_x1=fake_output.mean().item()\n",
        "      total_Dloss=errD_real+errD_fake+errD_label\n",
        "      optimizerD.step()\n",
        "\n",
        "      optimizerG.zero_grad()\n",
        "      fakeD_output_gen= netD(gen_data)\n",
        "      fake_output_labels_gen,fake_output_gen = fakeD_output_gen[0].squeeze(),fakeD_output_gen[1].squeeze()\n",
        "      errG_label= criterion(fake_output_gen, real_label)\n",
        "      # Calculate gradients for G\n",
        "      errG_label.backward(retain_graph=True)\n",
        "      D_G_z2 = fake_output_gen.mean().item()\n",
        "      # Update G\n",
        "      optimizerG.step()\n",
        "    else:\n",
        "      break\n",
        "  dloss.append(total_Dloss.item())\n",
        "  gloss.append(errG_label.item())\n",
        "  print('Epoch: ',epoch,'   critic Loss: ',total_Dloss.item() ,'  Generator Loss: ',errG_label.item())"
      ]
    },
    {
      "cell_type": "code",
      "execution_count": 124,
      "metadata": {
        "id": "kIDa2FAMH6Ue",
        "colab": {
          "base_uri": "https://localhost:8080/",
          "height": 531
        },
        "outputId": "8b8a37fc-1f4d-4e68-a0a9-2f6c9dd071fa"
      },
      "outputs": [
        {
          "output_type": "execute_result",
          "data": {
            "text/plain": [
              "<matplotlib.legend.Legend at 0x7fd028e99f50>"
            ]
          },
          "metadata": {},
          "execution_count": 124
        },
        {
          "output_type": "display_data",
          "data": {
            "text/plain": [
              "<Figure size 1800x576 with 1 Axes>"
            ],
            "image/png": "[encoded data removed]"
          },
          "metadata": {
            "needs_background": "light"
          }
        }
      ],
      "source": [
        "import numpy as np\n",
        "import matplotlib.pyplot as plt\n",
        "plt.figure(figsize=(25,8))\n",
        "plt.plot(np.array(dloss),label='Critic loss')\n",
        "plt.plot(np.array(gloss),label='Gen loss',linewidth=2)\n",
        "plt.xlabel('Epochs')\n",
        "plt.ylabel('Loss')\n",
        "plt.title('Learning curve')\n",
        "plt.legend()"
      ]
    },
    {
      "cell_type": "code",
      "source": [
        ""
      ],
      "metadata": {
        "id": "r1ISYoRykvjv"
      },
      "execution_count": null,
      "outputs": []
    }
  ],
  "metadata": {
    "accelerator": "GPU",
    "colab": {
      "name": "AMGAN.ipynb",
      "provenance": [],
      "collapsed_sections": [],
      "authorship_tag": "ABX9TyN7irszHHPc2jP/5zA0+Cll",
      "include_colab_link": true
    },
    "gpuClass": "standard",
    "kernelspec": {
      "display_name": "Python 3",
      "name": "python3"
    },
    "language_info": {
      "name": "python"
    }
  },
  "nbformat": 4,
  "nbformat_minor": 0
}