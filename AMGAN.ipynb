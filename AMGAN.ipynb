{
  "cells": [
    {
      "cell_type": "markdown",
      "metadata": {
        "id": "view-in-github",
        "colab_type": "text"
      },
      "source": [
        "<a href=\"https://colab.research.google.com/github/viswambhar-yasa/Where_r_Bees/blob/main/AMGAN.ipynb\" target=\"_parent\"><img src=\"https://colab.research.google.com/assets/colab-badge.svg\" alt=\"Open In Colab\"/></a>"
      ]
    },
    {
      "cell_type": "code",
      "execution_count": null,
      "metadata": {
        "id": "Er8pNbIMGzRj"
      },
      "outputs": [],
      "source": [
        "import torch \n",
        "import torch.nn as nn\n",
        "import torch.optim as optim\n",
        "from torch.autograd import Variable\n",
        "import torch.utils.data\n",
        "import torchvision.datasets as datasets\n",
        "import torchvision.transforms as transforms\n",
        "\n",
        "def weight_initialization(m):\n",
        "    classname = m.__class__.__name__\n",
        "    if classname.find('Conv') != -1:\n",
        "        nn.init.normal_(m.weight.data, 0.0, 0.02)\n",
        "    elif classname.find('BatchNorm') != -1:\n",
        "        nn.init.normal_(m.weight.data, 1.0, 0.02)\n",
        "        nn.init.constant_(m.bias.data, 0)\n",
        "\n",
        "\n",
        "class DCGAN(nn.Module):\n",
        "    def __init__(self, z_size, output_size, n_classes, n_output_channels=1):\n",
        "        super(DCGAN, self).__init__()\n",
        "        self.output_size=output_size\n",
        "        self.n_classes=n_classes\n",
        "        self.Gen = nn.Sequential(\n",
        "            nn.ConvTranspose2d(in_channels=z_size, out_channels=output_size*16,\n",
        "                               kernel_size=4, stride=1, padding=1, bias=False),\n",
        "            nn.BatchNorm2d(output_size*16),\n",
        "            nn.ReLU(True),\n",
        "            \n",
        "            nn.ConvTranspose2d(in_channels=output_size*16, out_channels=output_size*8,\n",
        "                               kernel_size=4, stride=2, padding=1, bias=False),\n",
        "            nn.BatchNorm2d(output_size*8),\n",
        "            nn.ReLU(True),\n",
        "\n",
        "            nn.ConvTranspose2d(in_channels=output_size*8, out_channels=output_size*4,\n",
        "                               kernel_size=4, stride=2, padding=1, bias=False),\n",
        "            nn.BatchNorm2d(output_size*4),\n",
        "            nn.ReLU(True),\n",
        "\n",
        "            nn.ConvTranspose2d(in_channels=output_size*4, out_channels=output_size*2,\n",
        "                               kernel_size=4, stride=2, padding=1, bias=False),\n",
        "            nn.BatchNorm2d(128),\n",
        "            nn.ReLU(True),\n",
        "            \n",
        "            nn.ConvTranspose2d(in_channels=output_size*2, out_channels=output_size,\n",
        "                               kernel_size=4, stride=2, padding=1, bias=False),\n",
        "            nn.BatchNorm2d(output_size),\n",
        "            nn.ReLU(True),\n",
        "\n",
        "            nn.ConvTranspose2d(in_channels=output_size, out_channels=n_output_channels,\n",
        "                               kernel_size=4, stride=2, padding=1, bias=False),\n",
        "            nn.Tanh()\n",
        "            )\n",
        "        \n",
        "        self.Dis = nn.Sequential(\n",
        "            nn.Conv2d(in_channels=n_output_channels, out_channels=output_size,\n",
        "                      kernel_size=4, stride=2, padding=1, bias=False),\n",
        "            nn.LeakyReLU(0.2, inplace=True),\n",
        "\n",
        "            nn.Conv2d(in_channels=output_size, out_channels=output_size*2,\n",
        "                      kernel_size=4, stride=2, padding=1, bias=False),\n",
        "            nn.BatchNorm2d(output_size*2),\n",
        "            nn.LeakyReLU(0.2, inplace=True),\n",
        "\n",
        "            nn.Conv2d(in_channels=output_size*2, out_channels=output_size*4,\n",
        "                      kernel_size=4, stride=2, padding=1, bias=False),\n",
        "            nn.BatchNorm2d(output_size*4),\n",
        "            nn.LeakyReLU(0.2, inplace=True),\n",
        "            \n",
        "            nn.Conv2d(in_channels=output_size*4, out_channels=output_size*8,\n",
        "                      kernel_size=4, stride=2, padding=1, bias=False),\n",
        "            nn.BatchNorm2d(output_size*8),\n",
        "            nn.LeakyReLU(0.2, inplace=True),\n",
        "\n",
        "            nn.Conv2d(in_channels=output_size*8, out_channels=output_size*16,\n",
        "                      kernel_size=4, stride=2, padding=1, bias=False),\n",
        "            nn.BatchNorm2d(output_size*16),\n",
        "            nn.LeakyReLU(0.2, inplace=True),\n",
        "            nn.Conv2d(in_channels=output_size*16, out_channels=1,\n",
        "                        kernel_size=4, stride=1, padding=1, bias=False),\n",
        "            nn.Sigmoid())\n",
        "\n",
        "    def forward(self):\n",
        "      return [self.Gen(),self.Dis()]\n"
      ]
    },
    {
      "cell_type": "code",
      "execution_count": null,
      "metadata": {
        "colab": {
          "base_uri": "https://localhost:8080/"
        },
        "id": "9DKgJftUHCmp",
        "outputId": "a4feef54-e8a3-4271-eadd-5096207c4123"
      },
      "outputs": [
        {
          "name": "stdout",
          "output_type": "stream",
          "text": [
            "Pytorch Version 1.12.0+cu113\n",
            "Is GPU available: True\n",
            "Number of GPUs 1\n"
          ]
        },
        {
          "data": {
            "text/plain": [
              "Sequential(\n",
              "  (0): Conv2d(1, 64, kernel_size=(4, 4), stride=(2, 2), padding=(1, 1), bias=False)\n",
              "  (1): LeakyReLU(negative_slope=0.2, inplace=True)\n",
              "  (2): Conv2d(64, 128, kernel_size=(4, 4), stride=(2, 2), padding=(1, 1), bias=False)\n",
              "  (3): BatchNorm2d(128, eps=1e-05, momentum=0.1, affine=True, track_running_stats=True)\n",
              "  (4): LeakyReLU(negative_slope=0.2, inplace=True)\n",
              "  (5): Conv2d(128, 256, kernel_size=(4, 4), stride=(2, 2), padding=(1, 1), bias=False)\n",
              "  (6): BatchNorm2d(256, eps=1e-05, momentum=0.1, affine=True, track_running_stats=True)\n",
              "  (7): LeakyReLU(negative_slope=0.2, inplace=True)\n",
              "  (8): Conv2d(256, 512, kernel_size=(4, 4), stride=(2, 2), padding=(1, 1), bias=False)\n",
              "  (9): BatchNorm2d(512, eps=1e-05, momentum=0.1, affine=True, track_running_stats=True)\n",
              "  (10): LeakyReLU(negative_slope=0.2, inplace=True)\n",
              "  (11): Conv2d(512, 1024, kernel_size=(4, 4), stride=(2, 2), padding=(1, 1), bias=False)\n",
              "  (12): BatchNorm2d(1024, eps=1e-05, momentum=0.1, affine=True, track_running_stats=True)\n",
              "  (13): LeakyReLU(negative_slope=0.2, inplace=True)\n",
              "  (14): Conv2d(1024, 1, kernel_size=(4, 4), stride=(1, 1), padding=(1, 1), bias=False)\n",
              "  (15): Sigmoid()\n",
              ")"
            ]
          },
          "execution_count": 59,
          "metadata": {},
          "output_type": "execute_result"
        }
      ],
      "source": [
        "\n",
        "print('Pytorch Version', torch.__version__)\n",
        "print('Is GPU available:',torch.cuda.is_available())\n",
        "if torch.cuda.is_available():\n",
        "    print('Number of GPUs',torch.cuda.device_count())\n",
        "\n",
        "ngpu = torch.cuda.device_count()\n",
        "device = torch.device(\"cuda:0\" if (torch.cuda.is_available() and ngpu > 0) else \"cpu\")\n",
        "\n",
        "z_vector_size=128\n",
        "output_image_size=64\n",
        "n_classes= 10 ## number of labels\n",
        "DCGAN_Net = DCGAN(z_vector_size, output_image_size,\n",
        "                  n_classes).to(device)\n",
        "\n",
        "if (device.type == 'cuda') and (ngpu > 1):\n",
        "    netG = nn.DataParallel(DCGAN_Net.Gen, list(range(ngpu)))\n",
        "    netD = nn.DataParallel(DCGAN_Net.Dis, list(range(ngpu)))\n",
        "else:\n",
        "    netG = DCGAN_Net.Gen\n",
        "    netD = DCGAN_Net.Dis\n",
        "netG.apply(weight_initialization)\n",
        "netD.apply(weight_initialization)\n",
        "\n"
      ]
    },
    {
      "cell_type": "code",
      "execution_count": null,
      "metadata": {
        "colab": {
          "base_uri": "https://localhost:8080/"
        },
        "id": "IY569dArZvT6",
        "outputId": "4e4c663a-89ab-4ace-feb4-21ecd1c0fe9c"
      },
      "outputs": [
        {
          "name": "stdout",
          "output_type": "stream",
          "text": [
            "----------------------------------------------------------------\n",
            "        Layer (type)               Output Shape         Param #\n",
            "================================================================\n",
            "   ConvTranspose2d-1           [-1, 1024, 2, 2]       2,097,152\n",
            "       BatchNorm2d-2           [-1, 1024, 2, 2]           2,048\n",
            "              ReLU-3           [-1, 1024, 2, 2]               0\n",
            "   ConvTranspose2d-4            [-1, 512, 4, 4]       8,388,608\n",
            "       BatchNorm2d-5            [-1, 512, 4, 4]           1,024\n",
            "              ReLU-6            [-1, 512, 4, 4]               0\n",
            "   ConvTranspose2d-7            [-1, 256, 8, 8]       2,097,152\n",
            "       BatchNorm2d-8            [-1, 256, 8, 8]             512\n",
            "              ReLU-9            [-1, 256, 8, 8]               0\n",
            "  ConvTranspose2d-10          [-1, 128, 16, 16]         524,288\n",
            "      BatchNorm2d-11          [-1, 128, 16, 16]             256\n",
            "             ReLU-12          [-1, 128, 16, 16]               0\n",
            "  ConvTranspose2d-13           [-1, 64, 32, 32]         131,072\n",
            "      BatchNorm2d-14           [-1, 64, 32, 32]             128\n",
            "             ReLU-15           [-1, 64, 32, 32]               0\n",
            "  ConvTranspose2d-16            [-1, 1, 64, 64]           1,024\n",
            "             Tanh-17            [-1, 1, 64, 64]               0\n",
            "================================================================\n",
            "Total params: 13,243,264\n",
            "Trainable params: 13,243,264\n",
            "Non-trainable params: 0\n",
            "----------------------------------------------------------------\n",
            "Input size (MB): 0.00\n",
            "Forward/backward pass size (MB): 2.97\n",
            "Params size (MB): 50.52\n",
            "Estimated Total Size (MB): 53.49\n",
            "----------------------------------------------------------------\n"
          ]
        }
      ],
      "source": [
        "from torchvision import models\n",
        "from torchsummary import summary\n",
        "summary(netG,(128,1,1))"
      ]
    },
    {
      "cell_type": "code",
      "execution_count": null,
      "metadata": {
        "colab": {
          "base_uri": "https://localhost:8080/"
        },
        "id": "cMnbg2A3ZNMM",
        "outputId": "752dce1b-453d-4860-ac66-88b923e7b2c4"
      },
      "outputs": [
        {
          "name": "stdout",
          "output_type": "stream",
          "text": [
            "----------------------------------------------------------------\n",
            "        Layer (type)               Output Shape         Param #\n",
            "================================================================\n",
            "            Conv2d-1           [-1, 64, 32, 32]           1,024\n",
            "         LeakyReLU-2           [-1, 64, 32, 32]               0\n",
            "            Conv2d-3          [-1, 128, 16, 16]         131,072\n",
            "       BatchNorm2d-4          [-1, 128, 16, 16]             256\n",
            "         LeakyReLU-5          [-1, 128, 16, 16]               0\n",
            "            Conv2d-6            [-1, 256, 8, 8]         524,288\n",
            "       BatchNorm2d-7            [-1, 256, 8, 8]             512\n",
            "         LeakyReLU-8            [-1, 256, 8, 8]               0\n",
            "            Conv2d-9            [-1, 512, 4, 4]       2,097,152\n",
            "      BatchNorm2d-10            [-1, 512, 4, 4]           1,024\n",
            "        LeakyReLU-11            [-1, 512, 4, 4]               0\n",
            "           Conv2d-12           [-1, 1024, 2, 2]       8,388,608\n",
            "      BatchNorm2d-13           [-1, 1024, 2, 2]           2,048\n",
            "        LeakyReLU-14           [-1, 1024, 2, 2]               0\n",
            "           Conv2d-15              [-1, 1, 1, 1]          16,384\n",
            "          Sigmoid-16              [-1, 1, 1, 1]               0\n",
            "================================================================\n",
            "Total params: 11,162,368\n",
            "Trainable params: 11,162,368\n",
            "Non-trainable params: 0\n",
            "----------------------------------------------------------------\n",
            "Input size (MB): 0.02\n",
            "Forward/backward pass size (MB): 2.41\n",
            "Params size (MB): 42.58\n",
            "Estimated Total Size (MB): 45.00\n",
            "----------------------------------------------------------------\n"
          ]
        }
      ],
      "source": [
        "summary(netD,(1,64,64))"
      ]
    },
    {
      "cell_type": "code",
      "execution_count": null,
      "metadata": {
        "id": "On66wa6GHHZh"
      },
      "outputs": [],
      "source": [
        "criterion = nn.BCELoss()\n",
        "criterion2=nn.CrossEntropyLoss()\n",
        "# Learning rate for optimizers\n",
        "lr = 0.0001\n",
        "\n",
        "# Beta1 hyperparam for Adam optimizers\n",
        "beta1 = 0.5\n",
        "\n",
        "# Setup Adam optimizers for both G and D\n",
        "optimizerD = optim.Adam(netD.parameters(), lr=lr, betas=(beta1, 0.999))\n",
        "optimizerG = optim.Adam(netG.parameters(), lr=lr, betas=(beta1, 0.999))"
      ]
    },
    {
      "cell_type": "code",
      "execution_count": null,
      "metadata": {
        "id": "wQndSvhlHPMq"
      },
      "outputs": [],
      "source": [
        "workers = 2\n",
        "\n",
        "training_data = datasets.FashionMNIST(\n",
        "    root=\"data\",\n",
        "    train=True,\n",
        "    download=True,\n",
        "    transform=transforms.Compose([\n",
        "        transforms.Resize(64),\n",
        "        transforms.CenterCrop(64),\n",
        "        transforms.ToTensor()\n",
        "    ])\n",
        ")\n",
        "\n",
        "test_data = datasets.FashionMNIST(\n",
        "    root=\"data\",\n",
        "    train=False,\n",
        "    download=True,\n",
        "    transform=transforms.Compose([\n",
        "        transforms.Resize(64),\n",
        "        transforms.CenterCrop(64),\n",
        "        transforms.ToTensor(),\n",
        "    ])\n",
        ")\n",
        "\n",
        "\n",
        "# Create the dataloader\n",
        "dataloader = torch.utils.data.DataLoader(training_data, batch_size=32,\n",
        "                                         shuffle=True, num_workers=workers)"
      ]
    },
    {
      "cell_type": "code",
      "execution_count": null,
      "metadata": {
        "id": "1ILnMQGkVL3A"
      },
      "outputs": [],
      "source": [
        "num_epochs=50\n",
        "max_steps=5"
      ]
    },
    {
      "cell_type": "code",
      "execution_count": null,
      "metadata": {
        "colab": {
          "background_save": true,
          "base_uri": "https://localhost:8080/"
        },
        "id": "-A392WLVVHYr",
        "outputId": "0654a005-eebc-4bfb-922a-f97a0695105d"
      },
      "outputs": [
        {
          "name": "stdout",
          "output_type": "stream",
          "text": [
            "Epoch:  0    Discrimator Loss:  0.0745401680469513   Generator Loss:  4.5229878425598145\n",
            "Epoch:  1    Discrimator Loss:  0.07563047111034393   Generator Loss:  5.866857528686523\n",
            "Epoch:  2    Discrimator Loss:  0.05290733650326729   Generator Loss:  4.963717460632324\n",
            "Epoch:  3    Discrimator Loss:  0.07909831404685974   Generator Loss:  4.41572904586792\n",
            "Epoch:  4    Discrimator Loss:  0.07997547090053558   Generator Loss:  4.279857635498047\n",
            "Epoch:  5    Discrimator Loss:  0.09566819667816162   Generator Loss:  5.567928314208984\n",
            "Epoch:  6    Discrimator Loss:  0.17214429378509521   Generator Loss:  6.1454267501831055\n",
            "Epoch:  7    Discrimator Loss:  0.0809081643819809   Generator Loss:  5.508798599243164\n",
            "Epoch:  8    Discrimator Loss:  0.11163375526666641   Generator Loss:  5.822798728942871\n",
            "Epoch:  9    Discrimator Loss:  0.06991199404001236   Generator Loss:  5.042856216430664\n",
            "Epoch:  10    Discrimator Loss:  0.050492268055677414   Generator Loss:  4.861244201660156\n",
            "Epoch:  11    Discrimator Loss:  0.11933247745037079   Generator Loss:  3.9381515979766846\n",
            "Epoch:  12    Discrimator Loss:  0.1990393102169037   Generator Loss:  5.418187141418457\n",
            "Epoch:  13    Discrimator Loss:  5.766177177429199   Generator Loss:  6.326597690582275\n",
            "Epoch:  14    Discrimator Loss:  0.41796794533729553   Generator Loss:  4.227603912353516\n",
            "Epoch:  15    Discrimator Loss:  0.36162427067756653   Generator Loss:  4.554417133331299\n",
            "Epoch:  16    Discrimator Loss:  0.2777959406375885   Generator Loss:  4.560364723205566\n",
            "Epoch:  17    Discrimator Loss:  0.37514591217041016   Generator Loss:  2.734269142150879\n",
            "Epoch:  18    Discrimator Loss:  0.8323135375976562   Generator Loss:  3.073082685470581\n",
            "Epoch:  19    Discrimator Loss:  0.28866511583328247   Generator Loss:  3.0041956901550293\n",
            "Epoch:  20    Discrimator Loss:  0.2945168912410736   Generator Loss:  3.0412306785583496\n",
            "Epoch:  21    Discrimator Loss:  0.34112754464149475   Generator Loss:  3.0535011291503906\n",
            "Epoch:  22    Discrimator Loss:  0.41385307908058167   Generator Loss:  6.2502946853637695\n",
            "Epoch:  23    Discrimator Loss:  0.11024826765060425   Generator Loss:  4.879391670227051\n",
            "Epoch:  24    Discrimator Loss:  1.7031067609786987   Generator Loss:  8.441998481750488\n",
            "Epoch:  25    Discrimator Loss:  0.2620512545108795   Generator Loss:  3.2564425468444824\n",
            "Epoch:  26    Discrimator Loss:  0.9812366366386414   Generator Loss:  3.064629316329956\n",
            "Epoch:  27    Discrimator Loss:  0.29197928309440613   Generator Loss:  3.337757110595703\n",
            "Epoch:  28    Discrimator Loss:  0.18517620861530304   Generator Loss:  5.785151481628418\n",
            "Epoch:  29    Discrimator Loss:  0.2783035635948181   Generator Loss:  3.7249722480773926\n",
            "Epoch:  30    Discrimator Loss:  0.32998016476631165   Generator Loss:  4.989307403564453\n",
            "Epoch:  31    Discrimator Loss:  0.14394527673721313   Generator Loss:  3.57572340965271\n",
            "Epoch:  32    Discrimator Loss:  0.18442712724208832   Generator Loss:  4.565755844116211\n",
            "Epoch:  33    Discrimator Loss:  0.35509192943573   Generator Loss:  5.369801998138428\n",
            "Epoch:  34    Discrimator Loss:  0.4657597541809082   Generator Loss:  3.7280073165893555\n",
            "Epoch:  35    Discrimator Loss:  0.13275623321533203   Generator Loss:  4.519626140594482\n",
            "Epoch:  36    Discrimator Loss:  0.2805158495903015   Generator Loss:  3.7239630222320557\n",
            "Epoch:  37    Discrimator Loss:  0.24037528038024902   Generator Loss:  3.4316182136535645\n",
            "Epoch:  38    Discrimator Loss:  0.4060847759246826   Generator Loss:  5.221535682678223\n",
            "Epoch:  39    Discrimator Loss:  0.2745833396911621   Generator Loss:  3.3732564449310303\n",
            "Epoch:  40    Discrimator Loss:  0.3476206064224243   Generator Loss:  4.293658256530762\n",
            "Epoch:  41    Discrimator Loss:  0.27777498960494995   Generator Loss:  3.1690242290496826\n",
            "Epoch:  42    Discrimator Loss:  0.25538763403892517   Generator Loss:  6.68923282623291\n",
            "Epoch:  43    Discrimator Loss:  0.427973210811615   Generator Loss:  6.124541282653809\n",
            "Epoch:  44    Discrimator Loss:  0.25404226779937744   Generator Loss:  4.720641136169434\n",
            "Epoch:  45    Discrimator Loss:  0.20507827401161194   Generator Loss:  3.574138641357422\n",
            "Epoch:  46    Discrimator Loss:  0.25242704153060913   Generator Loss:  2.145489454269409\n",
            "Epoch:  47    Discrimator Loss:  0.32878103852272034   Generator Loss:  3.0934290885925293\n",
            "Epoch:  48    Discrimator Loss:  0.21676914393901825   Generator Loss:  4.270498275756836\n",
            "Epoch:  49    Discrimator Loss:  0.18801574409008026   Generator Loss:  3.451263427734375\n"
          ]
        }
      ],
      "source": [
        "dloss=[]\n",
        "gloss=[]\n",
        "for epoch in range(num_epochs):\n",
        "  for steps,data in enumerate(dataloader,0):\n",
        "    if steps<max_steps:\n",
        "\n",
        "      # discrimination training\n",
        "      optimizerD.zero_grad()\n",
        "      input_data,label=data[0].to(device),data[1]\n",
        "      batch_size=input_data.size(0)\n",
        "      real_label = torch.full((batch_size,), 1., dtype=torch.float, device=device)\n",
        "      \n",
        "      # training on real data \n",
        "      real_output = netD(input_data).squeeze()\n",
        "      # loss from real labels   \n",
        "      errD_real = criterion(real_output, real_label)\n",
        "      errD_real.backward(retain_graph=True)\n",
        "      D_x0 = real_output.mean().item()\n",
        "\n",
        "      # input latent vectors to generate fake image \n",
        "      noise = torch.randn(batch_size,z_vector_size , 1, 1, device=device)\n",
        "        # Generate fake image batch with Generator\n",
        "      fake_label=torch.full((batch_size,), 0., dtype=torch.float, device=device)\n",
        "      gen_data=netG(noise)\n",
        "      # discrimation training on fake images\n",
        "      fake_output = netD(gen_data).squeeze()\n",
        "      # loss for fake image\n",
        "      errD_fake= criterion(fake_output, fake_label)\n",
        "      errD_fake.backward(retain_graph=True)\n",
        "      D_x1=fake_output.mean().item()\n",
        "      total_Dloss=errD_real+errD_fake\n",
        "      optimizerD.step()\n",
        "\n",
        "      optimizerG.zero_grad()\n",
        "      fake_output_gen = netD(gen_data).squeeze()\n",
        "      errG_label= criterion(fake_output_gen, real_label)\n",
        "      # Calculate gradients for G\n",
        "      errG_label.backward(retain_graph=True)\n",
        "      D_G_z2 = fake_output_gen.mean().item()\n",
        "      # Update G\n",
        "      optimizerG.step()\n",
        "    else:\n",
        "      break\n",
        "  dloss.append(total_Dloss.item())\n",
        "  gloss.append(errG_label.item())\n",
        "  print('Epoch: ',epoch,'   Discrimator Loss: ',total_Dloss.item() ,'  Generator Loss: ',errG_label.item())"
      ]
    },
    {
      "cell_type": "code",
      "execution_count": null,
      "metadata": {
        "id": "kIDa2FAMH6Ue"
      },
      "outputs": [],
      "source": [
        ""
      ]
    }
  ],
  "metadata": {
    "accelerator": "GPU",
    "colab": {
      "name": "AMGAN.ipynb",
      "provenance": [],
      "authorship_tag": "ABX9TyNqYI2+APR7+cjdmajeX4P6",
      "include_colab_link": true
    },
    "gpuClass": "standard",
    "kernelspec": {
      "display_name": "Python 3",
      "name": "python3"
    },
    "language_info": {
      "name": "python"
    }
  },
  "nbformat": 4,
  "nbformat_minor": 0
}